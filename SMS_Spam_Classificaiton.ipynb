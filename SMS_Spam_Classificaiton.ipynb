{
  "nbformat": 4,
  "nbformat_minor": 0,
  "metadata": {
    "colab": {
      "name": "SMS Spam Classificaiton",
      "provenance": [],
      "collapsed_sections": [],
      "authorship_tag": "ABX9TyM4Zyw0MZ8E2MsQ0Nkxo2S4",
      "include_colab_link": true
    },
    "kernelspec": {
      "name": "python3",
      "display_name": "Python 3"
    },
    "accelerator": "GPU"
  },
  "cells": [
    {
      "cell_type": "markdown",
      "metadata": {
        "id": "view-in-github",
        "colab_type": "text"
      },
      "source": [
        "<a href=\"https://colab.research.google.com/github/dearsanshui/data_exploration/blob/main/SMS_Spam_Classificaiton.ipynb\" target=\"_parent\"><img src=\"https://colab.research.google.com/assets/colab-badge.svg\" alt=\"Open In Colab\"/></a>"
      ]
    },
    {
      "cell_type": "markdown",
      "metadata": {
        "id": "kJuzbBdRZHTn"
      },
      "source": [
        "This notebook is trying to develop Neural Networks for SMS message spam classification.\n",
        "\n",
        "Table of contents:\n",
        "*   Exploratory Data Analysis\n",
        "*   Text Preprocessing\n",
        "*   Tokenization\n",
        "*   Model Training & Selection\n",
        "*   Model Evaluation\n",
        "*   Discussion\n",
        "*   Summary\n",
        "*   References\n",
        "\n",
        "\n",
        "\n",
        "\n",
        "\n",
        "\n",
        "\n",
        "\n",
        "\n",
        "\n",
        "\n"
      ]
    },
    {
      "cell_type": "markdown",
      "metadata": {
        "id": "mkW5cGEdMISO"
      },
      "source": [
        "Data will be stored in Google Drive."
      ]
    },
    {
      "cell_type": "code",
      "metadata": {
        "colab": {
          "base_uri": "https://localhost:8080/"
        },
        "id": "saxb2aXdLMDQ",
        "outputId": "de61554d-3491-417b-f180-ae4de8f4091e"
      },
      "source": [
        "from google.colab import drive\n",
        "drive.mount('/content/gdrive')"
      ],
      "execution_count": 1,
      "outputs": [
        {
          "output_type": "stream",
          "text": [
            "Drive already mounted at /content/gdrive; to attempt to forcibly remount, call drive.mount(\"/content/gdrive\", force_remount=True).\n"
          ],
          "name": "stdout"
        }
      ]
    },
    {
      "cell_type": "code",
      "metadata": {
        "colab": {
          "base_uri": "https://localhost:8080/"
        },
        "id": "AERbhtcFLM3O",
        "outputId": "2968a0c8-48dd-4720-c3e3-b0f01d5c9ea9"
      },
      "source": [
        "import os\n",
        "os.environ['KAGGLE_CONFIG_DIR'] = \"/content/gdrive/My Drive/kaggle\"\n",
        "%cd /content/gdrive/My Drive/kaggle/datasets"
      ],
      "execution_count": 2,
      "outputs": [
        {
          "output_type": "stream",
          "text": [
            "/content/gdrive/My Drive/kaggle/datasets\n"
          ],
          "name": "stdout"
        }
      ]
    },
    {
      "cell_type": "markdown",
      "metadata": {
        "id": "uiupVomA09sx"
      },
      "source": [
        "**Download SMS data from Kaggle.**<br> \n",
        "*If the data is already in your google drive, there is **no** need to run below code cell.*"
      ]
    },
    {
      "cell_type": "code",
      "metadata": {
        "id": "nad_SMjwLRCF"
      },
      "source": [
        "!kaggle datasets download -d uciml/sms-spam-collection-dataset\n",
        "!unzip sms-spam-collection-dataset.zip"
      ],
      "execution_count": null,
      "outputs": []
    },
    {
      "cell_type": "markdown",
      "metadata": {
        "id": "nURWckO1MGf5"
      },
      "source": [
        "**Data Downloaded!**"
      ]
    },
    {
      "cell_type": "code",
      "metadata": {
        "id": "bMboah9dL3YX"
      },
      "source": [
        "import numpy as np \n",
        "import pandas as pd\n",
        "import matplotlib.pyplot as plt\n",
        "import seaborn as sns\n",
        "\n",
        "import tensorflow as tf\n",
        "from tensorflow.keras.preprocessing.sequence import pad_sequences\n",
        "from tensorflow.keras.layers import Embedding, LSTM, Dense, Bidirectional\n",
        "from tensorflow.keras.preprocessing.text import Tokenizer\n",
        "from tensorflow.keras.models import Sequential\n",
        "from tensorflow.keras.optimizers import Adam\n",
        "\n",
        "import nltk\n",
        "from nltk.corpus import stopwords\n",
        "from nltk.tokenize import TweetTokenizer\n",
        "import string"
      ],
      "execution_count": 3,
      "outputs": []
    },
    {
      "cell_type": "markdown",
      "metadata": {
        "id": "LlKCsDExaKBO"
      },
      "source": [
        "# Exploratory Data Analysis"
      ]
    },
    {
      "cell_type": "code",
      "metadata": {
        "colab": {
          "base_uri": "https://localhost:8080/",
          "height": 202
        },
        "id": "aCEM_X2XMBGT",
        "outputId": "3593ff38-a137-4584-c514-702b01844642"
      },
      "source": [
        "df = pd.read_csv('spam.csv', encoding='latin-1')\n",
        "df.head()"
      ],
      "execution_count": 4,
      "outputs": [
        {
          "output_type": "execute_result",
          "data": {
            "text/html": [
              "<div>\n",
              "<style scoped>\n",
              "    .dataframe tbody tr th:only-of-type {\n",
              "        vertical-align: middle;\n",
              "    }\n",
              "\n",
              "    .dataframe tbody tr th {\n",
              "        vertical-align: top;\n",
              "    }\n",
              "\n",
              "    .dataframe thead th {\n",
              "        text-align: right;\n",
              "    }\n",
              "</style>\n",
              "<table border=\"1\" class=\"dataframe\">\n",
              "  <thead>\n",
              "    <tr style=\"text-align: right;\">\n",
              "      <th></th>\n",
              "      <th>v1</th>\n",
              "      <th>v2</th>\n",
              "      <th>Unnamed: 2</th>\n",
              "      <th>Unnamed: 3</th>\n",
              "      <th>Unnamed: 4</th>\n",
              "    </tr>\n",
              "  </thead>\n",
              "  <tbody>\n",
              "    <tr>\n",
              "      <th>0</th>\n",
              "      <td>ham</td>\n",
              "      <td>Go until jurong point, crazy.. Available only ...</td>\n",
              "      <td>NaN</td>\n",
              "      <td>NaN</td>\n",
              "      <td>NaN</td>\n",
              "    </tr>\n",
              "    <tr>\n",
              "      <th>1</th>\n",
              "      <td>ham</td>\n",
              "      <td>Ok lar... Joking wif u oni...</td>\n",
              "      <td>NaN</td>\n",
              "      <td>NaN</td>\n",
              "      <td>NaN</td>\n",
              "    </tr>\n",
              "    <tr>\n",
              "      <th>2</th>\n",
              "      <td>spam</td>\n",
              "      <td>Free entry in 2 a wkly comp to win FA Cup fina...</td>\n",
              "      <td>NaN</td>\n",
              "      <td>NaN</td>\n",
              "      <td>NaN</td>\n",
              "    </tr>\n",
              "    <tr>\n",
              "      <th>3</th>\n",
              "      <td>ham</td>\n",
              "      <td>U dun say so early hor... U c already then say...</td>\n",
              "      <td>NaN</td>\n",
              "      <td>NaN</td>\n",
              "      <td>NaN</td>\n",
              "    </tr>\n",
              "    <tr>\n",
              "      <th>4</th>\n",
              "      <td>ham</td>\n",
              "      <td>Nah I don't think he goes to usf, he lives aro...</td>\n",
              "      <td>NaN</td>\n",
              "      <td>NaN</td>\n",
              "      <td>NaN</td>\n",
              "    </tr>\n",
              "  </tbody>\n",
              "</table>\n",
              "</div>"
            ],
            "text/plain": [
              "     v1  ... Unnamed: 4\n",
              "0   ham  ...        NaN\n",
              "1   ham  ...        NaN\n",
              "2  spam  ...        NaN\n",
              "3   ham  ...        NaN\n",
              "4   ham  ...        NaN\n",
              "\n",
              "[5 rows x 5 columns]"
            ]
          },
          "metadata": {
            "tags": []
          },
          "execution_count": 4
        }
      ]
    },
    {
      "cell_type": "code",
      "metadata": {
        "colab": {
          "base_uri": "https://localhost:8080/"
        },
        "id": "T_OyeG8oRJX4",
        "outputId": "d36f7b90-340a-43b6-e7a6-1c2900266a25"
      },
      "source": [
        "df.info()"
      ],
      "execution_count": 5,
      "outputs": [
        {
          "output_type": "stream",
          "text": [
            "<class 'pandas.core.frame.DataFrame'>\n",
            "RangeIndex: 5572 entries, 0 to 5571\n",
            "Data columns (total 5 columns):\n",
            " #   Column      Non-Null Count  Dtype \n",
            "---  ------      --------------  ----- \n",
            " 0   v1          5572 non-null   object\n",
            " 1   v2          5572 non-null   object\n",
            " 2   Unnamed: 2  50 non-null     object\n",
            " 3   Unnamed: 3  12 non-null     object\n",
            " 4   Unnamed: 4  6 non-null      object\n",
            "dtypes: object(5)\n",
            "memory usage: 217.8+ KB\n"
          ],
          "name": "stdout"
        }
      ]
    },
    {
      "cell_type": "code",
      "metadata": {
        "colab": {
          "base_uri": "https://localhost:8080/",
          "height": 223
        },
        "id": "94PWasZc54Ic",
        "outputId": "816a2b8c-3f73-4085-f481-7748cc285efb"
      },
      "source": [
        "df.groupby('v1').describe()"
      ],
      "execution_count": 6,
      "outputs": [
        {
          "output_type": "execute_result",
          "data": {
            "text/html": [
              "<div>\n",
              "<style scoped>\n",
              "    .dataframe tbody tr th:only-of-type {\n",
              "        vertical-align: middle;\n",
              "    }\n",
              "\n",
              "    .dataframe tbody tr th {\n",
              "        vertical-align: top;\n",
              "    }\n",
              "\n",
              "    .dataframe thead tr th {\n",
              "        text-align: left;\n",
              "    }\n",
              "\n",
              "    .dataframe thead tr:last-of-type th {\n",
              "        text-align: right;\n",
              "    }\n",
              "</style>\n",
              "<table border=\"1\" class=\"dataframe\">\n",
              "  <thead>\n",
              "    <tr>\n",
              "      <th></th>\n",
              "      <th colspan=\"4\" halign=\"left\">v2</th>\n",
              "      <th colspan=\"4\" halign=\"left\">Unnamed: 2</th>\n",
              "      <th colspan=\"4\" halign=\"left\">Unnamed: 3</th>\n",
              "      <th colspan=\"4\" halign=\"left\">Unnamed: 4</th>\n",
              "    </tr>\n",
              "    <tr>\n",
              "      <th></th>\n",
              "      <th>count</th>\n",
              "      <th>unique</th>\n",
              "      <th>top</th>\n",
              "      <th>freq</th>\n",
              "      <th>count</th>\n",
              "      <th>unique</th>\n",
              "      <th>top</th>\n",
              "      <th>freq</th>\n",
              "      <th>count</th>\n",
              "      <th>unique</th>\n",
              "      <th>top</th>\n",
              "      <th>freq</th>\n",
              "      <th>count</th>\n",
              "      <th>unique</th>\n",
              "      <th>top</th>\n",
              "      <th>freq</th>\n",
              "    </tr>\n",
              "    <tr>\n",
              "      <th>v1</th>\n",
              "      <th></th>\n",
              "      <th></th>\n",
              "      <th></th>\n",
              "      <th></th>\n",
              "      <th></th>\n",
              "      <th></th>\n",
              "      <th></th>\n",
              "      <th></th>\n",
              "      <th></th>\n",
              "      <th></th>\n",
              "      <th></th>\n",
              "      <th></th>\n",
              "      <th></th>\n",
              "      <th></th>\n",
              "      <th></th>\n",
              "      <th></th>\n",
              "    </tr>\n",
              "  </thead>\n",
              "  <tbody>\n",
              "    <tr>\n",
              "      <th>ham</th>\n",
              "      <td>4825</td>\n",
              "      <td>4516</td>\n",
              "      <td>Sorry, I'll call later</td>\n",
              "      <td>30</td>\n",
              "      <td>45</td>\n",
              "      <td>39</td>\n",
              "      <td>bt not his girlfrnd... G o o d n i g h t . . .@\"</td>\n",
              "      <td>3</td>\n",
              "      <td>10</td>\n",
              "      <td>9</td>\n",
              "      <td>GE</td>\n",
              "      <td>2</td>\n",
              "      <td>6</td>\n",
              "      <td>5</td>\n",
              "      <td>GNT:-)\"</td>\n",
              "      <td>2</td>\n",
              "    </tr>\n",
              "    <tr>\n",
              "      <th>spam</th>\n",
              "      <td>747</td>\n",
              "      <td>653</td>\n",
              "      <td>Please call our customer service representativ...</td>\n",
              "      <td>4</td>\n",
              "      <td>5</td>\n",
              "      <td>4</td>\n",
              "      <td>PO Box 5249</td>\n",
              "      <td>2</td>\n",
              "      <td>2</td>\n",
              "      <td>1</td>\n",
              "      <td>MK17 92H. 450Ppw 16\"</td>\n",
              "      <td>2</td>\n",
              "      <td>0</td>\n",
              "      <td>0</td>\n",
              "      <td>NaN</td>\n",
              "      <td>NaN</td>\n",
              "    </tr>\n",
              "  </tbody>\n",
              "</table>\n",
              "</div>"
            ],
            "text/plain": [
              "        v2         ... Unnamed: 4     \n",
              "     count unique  ...        top freq\n",
              "v1                 ...                \n",
              "ham   4825   4516  ...    GNT:-)\"    2\n",
              "spam   747    653  ...        NaN  NaN\n",
              "\n",
              "[2 rows x 16 columns]"
            ]
          },
          "metadata": {
            "tags": []
          },
          "execution_count": 6
        }
      ]
    },
    {
      "cell_type": "markdown",
      "metadata": {
        "id": "6mF86czcNJ1i"
      },
      "source": [
        "As we can see, there are 5572 items in the dataset, 4825 ham and 747 spam.<br>\n",
        "Five columns are presented, first column '**v1**' is the label, second column '**v2**' represents the text, and three other columns ['**Unnamed: 2**', '**Unnamed: 3**', '**Unnamed: 4**'] that filled with NaN. <br>\n",
        "Since we only need the text and label of each SMS, we will drop the other three columns.<br>\n",
        "And we will rename the first two columns as ['txtlabel', 'text'], then transform label into 1(spam) and 0(ham) by adding a new column 'label'. "
      ]
    },
    {
      "cell_type": "code",
      "metadata": {
        "colab": {
          "base_uri": "https://localhost:8080/",
          "height": 202
        },
        "id": "j3tNxch5NBdC",
        "outputId": "9102e304-1f2c-440d-b7b7-4eff73d1dc60"
      },
      "source": [
        "df.drop(['Unnamed: 2', 'Unnamed: 3', 'Unnamed: 4'], inplace=True, axis=1)\n",
        "df.columns = ['txtlabel', 'text']\n",
        "df['label'] = df.txtlabel.map({'ham':0, 'spam':1})\n",
        "df.head()"
      ],
      "execution_count": 7,
      "outputs": [
        {
          "output_type": "execute_result",
          "data": {
            "text/html": [
              "<div>\n",
              "<style scoped>\n",
              "    .dataframe tbody tr th:only-of-type {\n",
              "        vertical-align: middle;\n",
              "    }\n",
              "\n",
              "    .dataframe tbody tr th {\n",
              "        vertical-align: top;\n",
              "    }\n",
              "\n",
              "    .dataframe thead th {\n",
              "        text-align: right;\n",
              "    }\n",
              "</style>\n",
              "<table border=\"1\" class=\"dataframe\">\n",
              "  <thead>\n",
              "    <tr style=\"text-align: right;\">\n",
              "      <th></th>\n",
              "      <th>txtlabel</th>\n",
              "      <th>text</th>\n",
              "      <th>label</th>\n",
              "    </tr>\n",
              "  </thead>\n",
              "  <tbody>\n",
              "    <tr>\n",
              "      <th>0</th>\n",
              "      <td>ham</td>\n",
              "      <td>Go until jurong point, crazy.. Available only ...</td>\n",
              "      <td>0</td>\n",
              "    </tr>\n",
              "    <tr>\n",
              "      <th>1</th>\n",
              "      <td>ham</td>\n",
              "      <td>Ok lar... Joking wif u oni...</td>\n",
              "      <td>0</td>\n",
              "    </tr>\n",
              "    <tr>\n",
              "      <th>2</th>\n",
              "      <td>spam</td>\n",
              "      <td>Free entry in 2 a wkly comp to win FA Cup fina...</td>\n",
              "      <td>1</td>\n",
              "    </tr>\n",
              "    <tr>\n",
              "      <th>3</th>\n",
              "      <td>ham</td>\n",
              "      <td>U dun say so early hor... U c already then say...</td>\n",
              "      <td>0</td>\n",
              "    </tr>\n",
              "    <tr>\n",
              "      <th>4</th>\n",
              "      <td>ham</td>\n",
              "      <td>Nah I don't think he goes to usf, he lives aro...</td>\n",
              "      <td>0</td>\n",
              "    </tr>\n",
              "  </tbody>\n",
              "</table>\n",
              "</div>"
            ],
            "text/plain": [
              "  txtlabel                                               text  label\n",
              "0      ham  Go until jurong point, crazy.. Available only ...      0\n",
              "1      ham                      Ok lar... Joking wif u oni...      0\n",
              "2     spam  Free entry in 2 a wkly comp to win FA Cup fina...      1\n",
              "3      ham  U dun say so early hor... U c already then say...      0\n",
              "4      ham  Nah I don't think he goes to usf, he lives aro...      0"
            ]
          },
          "metadata": {
            "tags": []
          },
          "execution_count": 7
        }
      ]
    },
    {
      "cell_type": "code",
      "metadata": {
        "colab": {
          "base_uri": "https://localhost:8080/",
          "height": 367
        },
        "id": "9d8I8S5mPEaA",
        "outputId": "23477473-23e4-4aa4-cc28-2cdfb6ba8442"
      },
      "source": [
        "sns.countplot(df.label)\n",
        "plt.xlabel('Label')\n",
        "plt.title('Message Number')"
      ],
      "execution_count": 8,
      "outputs": [
        {
          "output_type": "stream",
          "text": [
            "/usr/local/lib/python3.6/dist-packages/seaborn/_decorators.py:43: FutureWarning: Pass the following variable as a keyword arg: x. From version 0.12, the only valid positional argument will be `data`, and passing other arguments without an explicit keyword will result in an error or misinterpretation.\n",
            "  FutureWarning\n"
          ],
          "name": "stderr"
        },
        {
          "output_type": "execute_result",
          "data": {
            "text/plain": [
              "Text(0.5, 1.0, 'Message Number')"
            ]
          },
          "metadata": {
            "tags": []
          },
          "execution_count": 8
        },
        {
          "output_type": "display_data",
          "data": {
            "image/png": "[encoded data removed]",
            "text/plain": [
              "<Figure size 432x288 with 1 Axes>"
            ]
          },
          "metadata": {
            "tags": [],
            "needs_background": "light"
          }
        }
      ]
    },
    {
      "cell_type": "markdown",
      "metadata": {
        "id": "fxj8kQD2p9_v"
      },
      "source": [
        "## Text Preprocessing"
      ]
    },
    {
      "cell_type": "markdown",
      "metadata": {
        "id": "MEodM6cQOvVD"
      },
      "source": [
        "We will remove stop words from each text since they do not contribute much to the meaning of the text.\n",
        "As the SMS messages are similar to Twitter messages, we are going to use the TweetTokenizer() provided by nltk to split a text into words."
      ]
    },
    {
      "cell_type": "code",
      "metadata": {
        "colab": {
          "base_uri": "https://localhost:8080/"
        },
        "id": "IjDjk9wGIsa-",
        "outputId": "c35da12d-fb23-459d-ad72-b136bf95c649"
      },
      "source": [
        "nltk.download('stopwords')\n",
        "nltk.download('punkt')"
      ],
      "execution_count": 9,
      "outputs": [
        {
          "output_type": "stream",
          "text": [
            "[nltk_data] Downloading package stopwords to /root/nltk_data...\n",
            "[nltk_data]   Package stopwords is already up-to-date!\n",
            "[nltk_data] Downloading package punkt to /root/nltk_data...\n",
            "[nltk_data]   Package punkt is already up-to-date!\n"
          ],
          "name": "stdout"
        },
        {
          "output_type": "execute_result",
          "data": {
            "text/plain": [
              "True"
            ]
          },
          "metadata": {
            "tags": []
          },
          "execution_count": 9
        }
      ]
    },
    {
      "cell_type": "code",
      "metadata": {
        "id": "ze6fYpC-O2zb",
        "colab": {
          "base_uri": "https://localhost:8080/",
          "height": 202
        },
        "outputId": "5c6f3f5b-a261-49d0-8038-a040354fc9db"
      },
      "source": [
        "STOPWORDS = stopwords.words('english') + list(string.punctuation) + ['...', '..', 'u']\n",
        "tknzr = TweetTokenizer()\n",
        "\n",
        "# add a new column 'cleaned_text' to hold text after removing stop words\n",
        "df[\"cleaned_text\"] = df[\"text\"].apply(lambda text: ' '.join([word for word in tknzr.tokenize(text.lower()) if word not in STOPWORDS]))\n",
        "df.head()"
      ],
      "execution_count": 10,
      "outputs": [
        {
          "output_type": "execute_result",
          "data": {
            "text/html": [
              "<div>\n",
              "<style scoped>\n",
              "    .dataframe tbody tr th:only-of-type {\n",
              "        vertical-align: middle;\n",
              "    }\n",
              "\n",
              "    .dataframe tbody tr th {\n",
              "        vertical-align: top;\n",
              "    }\n",
              "\n",
              "    .dataframe thead th {\n",
              "        text-align: right;\n",
              "    }\n",
              "</style>\n",
              "<table border=\"1\" class=\"dataframe\">\n",
              "  <thead>\n",
              "    <tr style=\"text-align: right;\">\n",
              "      <th></th>\n",
              "      <th>txtlabel</th>\n",
              "      <th>text</th>\n",
              "      <th>label</th>\n",
              "      <th>cleaned_text</th>\n",
              "    </tr>\n",
              "  </thead>\n",
              "  <tbody>\n",
              "    <tr>\n",
              "      <th>0</th>\n",
              "      <td>ham</td>\n",
              "      <td>Go until jurong point, crazy.. Available only ...</td>\n",
              "      <td>0</td>\n",
              "      <td>go jurong point crazy available bugis n great ...</td>\n",
              "    </tr>\n",
              "    <tr>\n",
              "      <th>1</th>\n",
              "      <td>ham</td>\n",
              "      <td>Ok lar... Joking wif u oni...</td>\n",
              "      <td>0</td>\n",
              "      <td>ok lar joking wif oni</td>\n",
              "    </tr>\n",
              "    <tr>\n",
              "      <th>2</th>\n",
              "      <td>spam</td>\n",
              "      <td>Free entry in 2 a wkly comp to win FA Cup fina...</td>\n",
              "      <td>1</td>\n",
              "      <td>free entry 2 wkly comp win fa cup final tkts 2...</td>\n",
              "    </tr>\n",
              "    <tr>\n",
              "      <th>3</th>\n",
              "      <td>ham</td>\n",
              "      <td>U dun say so early hor... U c already then say...</td>\n",
              "      <td>0</td>\n",
              "      <td>dun say early hor c already say</td>\n",
              "    </tr>\n",
              "    <tr>\n",
              "      <th>4</th>\n",
              "      <td>ham</td>\n",
              "      <td>Nah I don't think he goes to usf, he lives aro...</td>\n",
              "      <td>0</td>\n",
              "      <td>nah think goes usf lives around though</td>\n",
              "    </tr>\n",
              "  </tbody>\n",
              "</table>\n",
              "</div>"
            ],
            "text/plain": [
              "  txtlabel  ...                                       cleaned_text\n",
              "0      ham  ...  go jurong point crazy available bugis n great ...\n",
              "1      ham  ...                              ok lar joking wif oni\n",
              "2     spam  ...  free entry 2 wkly comp win fa cup final tkts 2...\n",
              "3      ham  ...                    dun say early hor c already say\n",
              "4      ham  ...             nah think goes usf lives around though\n",
              "\n",
              "[5 rows x 4 columns]"
            ]
          },
          "metadata": {
            "tags": []
          },
          "execution_count": 10
        }
      ]
    },
    {
      "cell_type": "code",
      "metadata": {
        "colab": {
          "base_uri": "https://localhost:8080/"
        },
        "id": "RUIWJnGKMFLd",
        "outputId": "bf3aff83-f434-47b6-aa25-42639525eeac"
      },
      "source": [
        "print('\\033[1m' + 'Original Text: ' + '\\033[0m' + df.iloc[0][1])\n",
        "print('\\033[1m' + 'Cleaned Text: ' + '\\033[0m' + df.iloc[0][3])"
      ],
      "execution_count": 11,
      "outputs": [
        {
          "output_type": "stream",
          "text": [
            "\u001b[1mOriginal Text: \u001b[0mGo until jurong point, crazy.. Available only in bugis n great world la e buffet... Cine there got amore wat...\n",
            "\u001b[1mCleaned Text: \u001b[0mgo jurong point crazy available bugis n great world la e buffet cine got amore wat\n"
          ],
          "name": "stdout"
        }
      ]
    },
    {
      "cell_type": "markdown",
      "metadata": {
        "id": "lFedJVHxai3s"
      },
      "source": [
        "# Tokenization"
      ]
    },
    {
      "cell_type": "markdown",
      "metadata": {
        "id": "mubaxQQtw4xH"
      },
      "source": [
        "We are going to tokenize the word, put in an easy way, the words will be transformed into numbers.\n",
        "\n",
        "\n",
        "First, let's split the data into train/validation/test set.\n",
        "\n",
        "\n",
        "*   train set: train models\n",
        "*   validation set: tune models and select a model\n",
        "*   test set: evaluate the model\n",
        "\n",
        "If we only have train set and test set, using train set to train several models and employing test set to select the optimal model, then evaluating the model on the test set. There could be a problem that we are likely to choose a model that already fit into the test set, and evaludating the model's performance on the same test set might not fairly reflect the model's generalizability on new examples that it has never seen before.\n",
        "\n",
        "An explanination could be found on Prof. Andrew Ng's MOOC [Machine Learning](https://www.coursera.org/learn/machine-learning/lecture/QGKbr/model-selection-and-train-validation-test-sets)"
      ]
    },
    {
      "cell_type": "code",
      "metadata": {
        "colab": {
          "base_uri": "https://localhost:8080/",
          "height": 254
        },
        "id": "QDCbn6QOU4nY",
        "outputId": "91f26239-3a91-4206-9268-8d2f224aca70"
      },
      "source": [
        "train_ratio = 0.7\n",
        "validation_ratio = 0.15\n",
        "test_ratio = 1 - train_ratio - validation_ratio\n",
        "\n",
        "train, validation, test = np.split(df.sample(frac=1, random_state=42), [int(train_ratio*len(df)), int((train_ratio + validation_ratio)*len(df))])\n",
        "print(\"Train set size: {} \".format(len(train)))\n",
        "print(\"Validation set size: {}\".format(len(validation)))\n",
        "print(\"Test set size: {}\".format(len(test)))\n",
        "\n",
        "train.head()"
      ],
      "execution_count": 12,
      "outputs": [
        {
          "output_type": "stream",
          "text": [
            "Train set size: 3900 \n",
            "Validation set size: 836\n",
            "Test set size: 836\n"
          ],
          "name": "stdout"
        },
        {
          "output_type": "execute_result",
          "data": {
            "text/html": [
              "<div>\n",
              "<style scoped>\n",
              "    .dataframe tbody tr th:only-of-type {\n",
              "        vertical-align: middle;\n",
              "    }\n",
              "\n",
              "    .dataframe tbody tr th {\n",
              "        vertical-align: top;\n",
              "    }\n",
              "\n",
              "    .dataframe thead th {\n",
              "        text-align: right;\n",
              "    }\n",
              "</style>\n",
              "<table border=\"1\" class=\"dataframe\">\n",
              "  <thead>\n",
              "    <tr style=\"text-align: right;\">\n",
              "      <th></th>\n",
              "      <th>txtlabel</th>\n",
              "      <th>text</th>\n",
              "      <th>label</th>\n",
              "      <th>cleaned_text</th>\n",
              "    </tr>\n",
              "  </thead>\n",
              "  <tbody>\n",
              "    <tr>\n",
              "      <th>3245</th>\n",
              "      <td>ham</td>\n",
              "      <td>Funny fact Nobody teaches volcanoes 2 erupt, t...</td>\n",
              "      <td>0</td>\n",
              "      <td>funny fact nobody teaches volcanoes 2 erupt ts...</td>\n",
              "    </tr>\n",
              "    <tr>\n",
              "      <th>944</th>\n",
              "      <td>ham</td>\n",
              "      <td>I sent my scores to sophas and i had to do sec...</td>\n",
              "      <td>0</td>\n",
              "      <td>sent scores sophas secondary application schoo...</td>\n",
              "    </tr>\n",
              "    <tr>\n",
              "      <th>1044</th>\n",
              "      <td>spam</td>\n",
              "      <td>We know someone who you know that fancies you....</td>\n",
              "      <td>1</td>\n",
              "      <td>know someone know fancies call 09058097218 fin...</td>\n",
              "    </tr>\n",
              "    <tr>\n",
              "      <th>2484</th>\n",
              "      <td>ham</td>\n",
              "      <td>Only if you promise your getting out as SOON a...</td>\n",
              "      <td>0</td>\n",
              "      <td>promise getting soon text morning let know mad...</td>\n",
              "    </tr>\n",
              "    <tr>\n",
              "      <th>812</th>\n",
              "      <td>spam</td>\n",
              "      <td>Congratulations ur awarded either å£500 of CD ...</td>\n",
              "      <td>1</td>\n",
              "      <td>congratulations ur awarded either å £ 500 cd g...</td>\n",
              "    </tr>\n",
              "  </tbody>\n",
              "</table>\n",
              "</div>"
            ],
            "text/plain": [
              "     txtlabel  ...                                       cleaned_text\n",
              "3245      ham  ...  funny fact nobody teaches volcanoes 2 erupt ts...\n",
              "944       ham  ...  sent scores sophas secondary application schoo...\n",
              "1044     spam  ...  know someone know fancies call 09058097218 fin...\n",
              "2484      ham  ...  promise getting soon text morning let know mad...\n",
              "812      spam  ...  congratulations ur awarded either å £ 500 cd g...\n",
              "\n",
              "[5 rows x 4 columns]"
            ]
          },
          "metadata": {
            "tags": []
          },
          "execution_count": 12
        }
      ]
    },
    {
      "cell_type": "markdown",
      "metadata": {
        "id": "YAt05o0NDHZT"
      },
      "source": [
        "We will build a vocabulary with size of 10000, however, the acutal size could be smaller."
      ]
    },
    {
      "cell_type": "code",
      "metadata": {
        "id": "lu8z-j9QE9hz"
      },
      "source": [
        "vocab_size = 10000\n",
        "embedding_dim = 100\n",
        "max_length = 100\n",
        "trunc_type='post'\n",
        "padding_type='post'\n",
        "oov_tok = \"<OOV>\""
      ],
      "execution_count": 13,
      "outputs": []
    },
    {
      "cell_type": "code",
      "metadata": {
        "id": "-0zRi09STIUK"
      },
      "source": [
        "def pad_seq(tokenizer, sentenses, maxlen=100, padding='post', truncating='post'):\n",
        "  \"\"\"\n",
        "    tokenize the sentenses into sequences, then pad the sequences to specified length\n",
        "\n",
        "    Arguments:\n",
        "    tokenizer -- Tokenizer object\n",
        "    sentences -- text collection needs to be tokenized\n",
        "    max_len -- maximum length of all sequences.\n",
        "    padding --  String, 'pre' or 'post' (optional, defaults to 'pre'): pad either before or after each sequence.\n",
        "    truncating -- String, 'pre' or 'post' (optional, defaults to 'pre'): remove values from sequences larger than maxlen, either at the beginning or at the end of the sequences.\n",
        "\n",
        "    Returns:\n",
        "    np.array(padded) -- padded seqences in numpy arrays \n",
        "  \"\"\"\n",
        "  sequences = tokenizer.texts_to_sequences(sentenses)\n",
        "  padded = pad_sequences(sequences, maxlen=max_length, padding=padding_type, truncating=trunc_type)\n",
        "  return np.array(padded)"
      ],
      "execution_count": 14,
      "outputs": []
    },
    {
      "cell_type": "code",
      "metadata": {
        "id": "PALTcdG3RKdQ"
      },
      "source": [
        "def tokenize(train, validation, test, vocab_size, oov_tok, token_scope, token_on, label_on):\n",
        "  \"\"\"\n",
        "    Build a model with architure: embedding -> bidirectional LSTM -> Dense -> Dense(binary)\n",
        "\n",
        "    Arguments:\n",
        "    train -- train set\n",
        "    validation -- validation set\n",
        "    test -- test set\n",
        "    vocab_size --  vocabulary size \n",
        "    oov_tok -- symbol represents out-of-vocabulary words\n",
        "    token_scope -- 'all' to build vocabulary on text with the whole dataset; 'train' only on train set\n",
        "    label_on -- the column name that the label resides\n",
        "\n",
        "    Returns:\n",
        "    model -- a sequence model with specified layers\n",
        "  \"\"\"\n",
        "  tokenizer = Tokenizer(num_words = vocab_size, oov_token=oov_tok)\n",
        "  if token_scope == 'all':\n",
        "    tokenizer.fit_on_texts(pd.concat([train, validation, test])[token_on])\n",
        "  elif token_scope == 'train':\n",
        "    tokenizer.fit_on_texts(train[token_on])\n",
        "  else:\n",
        "    return None \n",
        "\n",
        "  word_index = tokenizer.word_index\n",
        "\n",
        "  X_train = pad_seq(tokenizer, train[token_on])\n",
        "  y_train = np.array(train[label_on])\n",
        "\n",
        "  X_validation = pad_seq(tokenizer, validation[token_on])\n",
        "  y_validation = np.array(validation[label_on])\n",
        "\n",
        "  X_test = pad_seq(tokenizer, test[token_on])\n",
        "  y_test = np.array(test[label_on])\n",
        "\n",
        "  return (X_train, y_train, X_validation, y_validation, X_test, y_test, word_index)"
      ],
      "execution_count": 15,
      "outputs": []
    },
    {
      "cell_type": "code",
      "metadata": {
        "id": "-rWULtmgUFwA"
      },
      "source": [
        "(X_train, y_train, X_validation, y_validation, X_test, y_test, word_index) = \\\n",
        "  tokenize(train, validation, test, vocab_size, oov_tok, 'all', 'cleaned_text', 'label')"
      ],
      "execution_count": 16,
      "outputs": []
    },
    {
      "cell_type": "code",
      "metadata": {
        "colab": {
          "base_uri": "https://localhost:8080/"
        },
        "id": "1RCEhJbfUoKL",
        "outputId": "5d4fc1a2-64e2-4679-9913-26dc55751f86"
      },
      "source": [
        "vocab_size = len(word_index)\n",
        "print(\"The acutal vocabulary size: {}\".format(len(word_index)))\n",
        "print(len(X_train), len(y_train))\n",
        "print(len(X_validation), len(y_validation))\n",
        "print(len(X_test), len(y_test))\n",
        "print(X_train[1:3])"
      ],
      "execution_count": 17,
      "outputs": [
        {
          "output_type": "stream",
          "text": [
            "The acutal vocabulary size: 8705\n",
            "3900 3900\n",
            "836 836\n",
            "836 836\n",
            "[[ 114 2859 4285 4286 2860 2861   52  526 4287 1815  279  104  118 1379\n",
            "  4288  372   26  899 1380  977    0    0    0    0    0    0    0    0\n",
            "     0    0    0    0    0    0    0    0    0    0    0    0    0    0\n",
            "     0    0    0    0    0    0    0    0    0    0    0    0    0    0\n",
            "     0    0    0    0    0    0    0    0    0    0    0    0    0    0\n",
            "     0    0    0    0    0    0    0    0    0    0    0    0    0    0\n",
            "     0    0    0    0    0    0    0    0    0    0    0    0    0    0\n",
            "     0    0]\n",
            " [  13  139   13 2202    2 4289   93  221  176 2862   89    0    0    0\n",
            "     0    0    0    0    0    0    0    0    0    0    0    0    0    0\n",
            "     0    0    0    0    0    0    0    0    0    0    0    0    0    0\n",
            "     0    0    0    0    0    0    0    0    0    0    0    0    0    0\n",
            "     0    0    0    0    0    0    0    0    0    0    0    0    0    0\n",
            "     0    0    0    0    0    0    0    0    0    0    0    0    0    0\n",
            "     0    0    0    0    0    0    0    0    0    0    0    0    0    0\n",
            "     0    0]]\n"
          ],
          "name": "stdout"
        }
      ]
    },
    {
      "cell_type": "markdown",
      "metadata": {
        "id": "uMr_lio54sMS"
      },
      "source": [
        "Even though we set vocabulary size to 10000, the actual vocabulary size is 8705."
      ]
    },
    {
      "cell_type": "markdown",
      "metadata": {
        "id": "YJHa69vpatY5"
      },
      "source": [
        "# Model Training & Selection"
      ]
    },
    {
      "cell_type": "code",
      "metadata": {
        "id": "9O4pTy2MZYB3"
      },
      "source": [
        "num_epochs = 10\n",
        "\n",
        "def plot_graphs(history, string):\n",
        "  \"\"\"\n",
        "    Paint accuracy and loss line graphs\n",
        "\n",
        "    Arguments:\n",
        "    history -- a record of training loss values and metrics values at successive epochs returned by the model\n",
        "    string -- axis label\n",
        "  \"\"\"\n",
        "  plt.plot(history.history[string])\n",
        "  plt.plot(history.history['val_'+string])\n",
        "  plt.xlabel(\"Epochs\")\n",
        "  plt.ylabel(string)\n",
        "  plt.legend([string, 'val_'+string])\n",
        "  plt.show()"
      ],
      "execution_count": 18,
      "outputs": []
    },
    {
      "cell_type": "markdown",
      "metadata": {
        "id": "7CF_d1618kLK"
      },
      "source": [
        "First, we will create a model presented in [Tensorflow Tutorial](https://www.tensorflow.org/tutorials/text/text_classification_rnn): embedding -> bidirectional LSTM -> Dense -> Dense(binary)"
      ]
    },
    {
      "cell_type": "code",
      "metadata": {
        "id": "PqPFVz1kVZAB"
      },
      "source": [
        "def model_biLstm(vocab_size, embedding_dim, max_length):\n",
        "  \"\"\"\n",
        "    Build a model with architure: embedding -> bidirectional LSTM -> Dense -> Dense(binary)\n",
        "\n",
        "    Arguments:\n",
        "    vocab_size -- vocab_size to train word embedding\n",
        "    embedding_dim -- word embedding dimension\n",
        "    max_length -- the max length of input text\n",
        "\n",
        "    Returns:\n",
        "    model -- a sequence model with specified layers\n",
        "  \"\"\"\n",
        "  model = tf.keras.Sequential([\n",
        "      tf.keras.layers.Embedding(vocab_size+1, embedding_dim, input_length=max_length),\n",
        "      tf.keras.layers.Bidirectional(tf.keras.layers.LSTM(64)),\n",
        "      tf.keras.layers.Dense(64, activation='relu'),\n",
        "      tf.keras.layers.Dense(1, activation='sigmoid')\n",
        "      ])\n",
        "  return model"
      ],
      "execution_count": 19,
      "outputs": []
    },
    {
      "cell_type": "markdown",
      "metadata": {
        "id": "TaQiVNropgYQ"
      },
      "source": [
        "We are going to create a second model following architeture from [Tensorflow Developer MOOC on Coursera](https://www.coursera.org/learn/natural-language-processing-tensorflow/lecture/NFvFd/going-back-to-the-imdb-dataset): embedding -> Conv1D -> MaxPooling1D -> LSTM -> Dense(binary), while using dropout to reduce overfitting."
      ]
    },
    {
      "cell_type": "code",
      "metadata": {
        "id": "V4IGRGVfWpnL"
      },
      "source": [
        "def model_ConvLstm(vocab_size, embedding_dim, max_length):\n",
        "  \"\"\"\n",
        "    Build a model with architure: embedding -> Conv1D -> MaxPooling1D -> LSTM -> Dense(binary)\n",
        "    \n",
        "    Arguments:\n",
        "    vocab_size -- vocab_size to train word embedding\n",
        "    embedding_dim -- word embedding dimension\n",
        "    max_length -- the max length of input text\n",
        "\n",
        "    Returns:\n",
        "    model -- a sequence model with specified layers\n",
        "  \"\"\"\n",
        "  model = tf.keras.Sequential([\n",
        "      tf.keras.layers.Embedding(vocab_size+1, embedding_dim, input_length=max_length),\n",
        "      tf.keras.layers.Dropout(0.2),\n",
        "      tf.keras.layers.Conv1D(64, 5, activation='relu'),\n",
        "      tf.keras.layers.MaxPooling1D(pool_size=4),\n",
        "      tf.keras.layers.LSTM(64),\n",
        "      tf.keras.layers.Dense(1, activation='sigmoid')\n",
        "      ])\n",
        "  return model"
      ],
      "execution_count": 20,
      "outputs": []
    },
    {
      "cell_type": "code",
      "metadata": {
        "colab": {
          "base_uri": "https://localhost:8080/",
          "height": 905
        },
        "id": "ihh_Wqx1V6f5",
        "outputId": "87ed252b-c3ac-4643-fa02-8824a605f510"
      },
      "source": [
        "model_1 = model_biLstm(vocab_size, embedding_dim, max_length)\n",
        "model_1.compile(loss='binary_crossentropy',optimizer='adam',metrics=['accuracy'])\n",
        "\n",
        "tf.keras.backend.clear_session()\n",
        "\n",
        "history_1 = model_1.fit(X_train, y_train, epochs=num_epochs, validation_data=(X_validation, y_validation), verbose=2)\n",
        "print(\"Model 1 Training Complete\")\n",
        "\n",
        "plot_graphs(history_1, \"accuracy\")\n",
        "plot_graphs(history_1, \"loss\")"
      ],
      "execution_count": 21,
      "outputs": [
        {
          "output_type": "stream",
          "text": [
            "Epoch 1/10\n",
            "122/122 - 7s - loss: 0.1830 - accuracy: 0.9392 - val_loss: 0.0502 - val_accuracy: 0.9856\n",
            "Epoch 2/10\n",
            "122/122 - 6s - loss: 0.0217 - accuracy: 0.9941 - val_loss: 0.0497 - val_accuracy: 0.9856\n",
            "Epoch 3/10\n",
            "122/122 - 6s - loss: 0.0068 - accuracy: 0.9982 - val_loss: 0.0681 - val_accuracy: 0.9809\n",
            "Epoch 4/10\n",
            "122/122 - 6s - loss: 0.0031 - accuracy: 0.9992 - val_loss: 0.0661 - val_accuracy: 0.9856\n",
            "Epoch 5/10\n",
            "122/122 - 6s - loss: 7.4516e-04 - accuracy: 0.9997 - val_loss: 0.0725 - val_accuracy: 0.9844\n",
            "Epoch 6/10\n",
            "122/122 - 6s - loss: 2.3837e-04 - accuracy: 1.0000 - val_loss: 0.0785 - val_accuracy: 0.9844\n",
            "Epoch 7/10\n",
            "122/122 - 6s - loss: 1.1858e-04 - accuracy: 1.0000 - val_loss: 0.0827 - val_accuracy: 0.9844\n",
            "Epoch 8/10\n",
            "122/122 - 6s - loss: 6.5990e-05 - accuracy: 1.0000 - val_loss: 0.0862 - val_accuracy: 0.9844\n",
            "Epoch 9/10\n",
            "122/122 - 6s - loss: 4.3686e-05 - accuracy: 1.0000 - val_loss: 0.0891 - val_accuracy: 0.9844\n",
            "Epoch 10/10\n",
            "122/122 - 6s - loss: 3.0883e-05 - accuracy: 1.0000 - val_loss: 0.0914 - val_accuracy: 0.9844\n",
            "Model 1 Training Complete\n"
          ],
          "name": "stdout"
        },
        {
          "output_type": "display_data",
          "data": {
            "image/png": "[encoded data removed]",
            "text/plain": [
              "<Figure size 432x288 with 1 Axes>"
            ]
          },
          "metadata": {
            "tags": [],
            "needs_background": "light"
          }
        },
        {
          "output_type": "display_data",
          "data": {
            "image/png": "[encoded data removed]",
            "text/plain": [
              "<Figure size 432x288 with 1 Axes>"
            ]
          },
          "metadata": {
            "tags": [],
            "needs_background": "light"
          }
        }
      ]
    },
    {
      "cell_type": "code",
      "metadata": {
        "colab": {
          "base_uri": "https://localhost:8080/",
          "height": 1000
        },
        "id": "N9Nk844LZh6J",
        "outputId": "18b0ae47-e123-481b-9d06-f31c58ef85a5"
      },
      "source": [
        "model_2 = model_ConvLstm(vocab_size, embedding_dim, max_length)\n",
        "model_2.compile(loss='binary_crossentropy',optimizer='adam',metrics=['accuracy'])\n",
        "model_2.summary()\n",
        "\n",
        "tf.keras.backend.clear_session()\n",
        "history_2 = model_2.fit(X_train, y_train, epochs=num_epochs, validation_data=(X_validation, y_validation), verbose=2)\n",
        "print(\"Model 2 Training Complete\")\n",
        "\n",
        "plot_graphs(history_2, \"accuracy\")\n",
        "plot_graphs(history_2, \"loss\")"
      ],
      "execution_count": 22,
      "outputs": [
        {
          "output_type": "stream",
          "text": [
            "Model: \"sequential\"\n",
            "_________________________________________________________________\n",
            "Layer (type)                 Output Shape              Param #   \n",
            "=================================================================\n",
            "embedding (Embedding)        (None, 100, 100)          870600    \n",
            "_________________________________________________________________\n",
            "dropout (Dropout)            (None, 100, 100)          0         \n",
            "_________________________________________________________________\n",
            "conv1d (Conv1D)              (None, 96, 64)            32064     \n",
            "_________________________________________________________________\n",
            "max_pooling1d (MaxPooling1D) (None, 24, 64)            0         \n",
            "_________________________________________________________________\n",
            "lstm (LSTM)                  (None, 64)                33024     \n",
            "_________________________________________________________________\n",
            "dense (Dense)                (None, 1)                 65        \n",
            "=================================================================\n",
            "Total params: 935,753\n",
            "Trainable params: 935,753\n",
            "Non-trainable params: 0\n",
            "_________________________________________________________________\n",
            "Epoch 1/10\n",
            "122/122 - 3s - loss: 0.3400 - accuracy: 0.8831 - val_loss: 0.1258 - val_accuracy: 0.9761\n",
            "Epoch 2/10\n",
            "122/122 - 2s - loss: 0.0600 - accuracy: 0.9867 - val_loss: 0.0711 - val_accuracy: 0.9797\n",
            "Epoch 3/10\n",
            "122/122 - 2s - loss: 0.0247 - accuracy: 0.9949 - val_loss: 0.0549 - val_accuracy: 0.9844\n",
            "Epoch 4/10\n",
            "122/122 - 2s - loss: 0.0182 - accuracy: 0.9959 - val_loss: 0.0798 - val_accuracy: 0.9856\n",
            "Epoch 5/10\n",
            "122/122 - 2s - loss: 0.0084 - accuracy: 0.9990 - val_loss: 0.0855 - val_accuracy: 0.9868\n",
            "Epoch 6/10\n",
            "122/122 - 2s - loss: 0.0081 - accuracy: 0.9990 - val_loss: 0.0873 - val_accuracy: 0.9833\n",
            "Epoch 7/10\n",
            "122/122 - 2s - loss: 0.0064 - accuracy: 0.9992 - val_loss: 0.0872 - val_accuracy: 0.9821\n",
            "Epoch 8/10\n",
            "122/122 - 2s - loss: 0.0052 - accuracy: 0.9992 - val_loss: 0.0890 - val_accuracy: 0.9868\n",
            "Epoch 9/10\n",
            "122/122 - 2s - loss: 0.0045 - accuracy: 0.9995 - val_loss: 0.0885 - val_accuracy: 0.9833\n",
            "Epoch 10/10\n",
            "122/122 - 2s - loss: 0.0025 - accuracy: 0.9997 - val_loss: 0.0907 - val_accuracy: 0.9833\n",
            "Model 2 Training Complete\n"
          ],
          "name": "stdout"
        },
        {
          "output_type": "display_data",
          "data": {
            "image/png": "[encoded data removed]",
            "text/plain": [
              "<Figure size 432x288 with 1 Axes>"
            ]
          },
          "metadata": {
            "tags": [],
            "needs_background": "light"
          }
        },
        {
          "output_type": "display_data",
          "data": {
            "image/png": "[encoded data removed]",
            "text/plain": [
              "<Figure size 432x288 with 1 Axes>"
            ]
          },
          "metadata": {
            "tags": [],
            "needs_background": "light"
          }
        }
      ]
    },
    {
      "cell_type": "markdown",
      "metadata": {
        "id": "ic6zcC5qa0H4"
      },
      "source": [
        "# Model Evaluation"
      ]
    },
    {
      "cell_type": "markdown",
      "metadata": {
        "id": "2a49VXpazgOr"
      },
      "source": [
        "Those two models both perform pretty well. <br>\n",
        "For model_1, the loss on validation shows a upward trend, it may indicate model_1 is overfitting. model_2 faces a similar issue in the end.<br>\n",
        "We choose model_1 this time to see its ability to generalize on test set. "
      ]
    },
    {
      "cell_type": "code",
      "metadata": {
        "colab": {
          "base_uri": "https://localhost:8080/"
        },
        "id": "UKOFqnVL7Y4r",
        "outputId": "0e36484d-1058-4377-c3c3-e257041ec700"
      },
      "source": [
        "loss, acc = model_1.evaluate(X_test, y_test)\n",
        "print(loss, acc)"
      ],
      "execution_count": 23,
      "outputs": [
        {
          "output_type": "stream",
          "text": [
            "27/27 [==============================] - 0s 15ms/step - loss: 0.0919 - accuracy: 0.9844\n",
            "0.09186752885580063 0.9844497442245483\n"
          ],
          "name": "stdout"
        }
      ]
    },
    {
      "cell_type": "code",
      "metadata": {
        "id": "9QrmaxDjW8ee"
      },
      "source": [
        "def decode_sentence(index_word, text):\n",
        "  \"\"\"\n",
        "    Convert the sentense from index to words\n",
        "    \n",
        "    Arguments:\n",
        "    index_word -- dictionary with key as the index and word as value, i.e. {1:'good'}\n",
        "    text -- the sequence represents a sentense of words\n",
        "  \"\"\"\n",
        "  return ' '.join([index_word.get(i, '') for i in text])"
      ],
      "execution_count": 24,
      "outputs": []
    },
    {
      "cell_type": "code",
      "metadata": {
        "id": "aKNpqqMsFF4Y"
      },
      "source": [
        "def plot_confusion_matrix(actual_label, predicted_label):\n",
        "  \"\"\"\n",
        "    Plot the confusion matrix\n",
        "    \n",
        "    Arguments:\n",
        "    acutal_label -- the acutal label of the data\n",
        "    predicted_label -- labes predicted by the model\n",
        "  \"\"\"\n",
        "  cm = tf.math.confusion_matrix(actual_label,predicted_label) \n",
        "  plt.figure(figsize = (5,5))\n",
        "  sns.heatmap(cm,cmap= \"Blues\", linecolor = 'black' , linewidth = 1 , annot = True, fmt='' , xticklabels = ['Ham','Spam'] , yticklabels = ['Ham','Spam'])\n"
      ],
      "execution_count": 25,
      "outputs": []
    },
    {
      "cell_type": "code",
      "metadata": {
        "colab": {
          "base_uri": "https://localhost:8080/"
        },
        "id": "ityOYfwwsadx",
        "outputId": "04e183c0-2256-41fb-8fe7-2f5fbae5e78a"
      },
      "source": [
        "pred_1 = model_1.predict(np.expand_dims(X_test[66], axis = 0))\n",
        "reverse_word_index = dict([(value, key) for (key, value) in word_index.items()])\n",
        "print(decode_sentence(reverse_word_index, X_test[66]))\n",
        "print(\"Acutall Label: {}\".format('spam' if y_test[66]==1 else 'ham'))\n",
        "print(\"Predicted Label: {}\".format('spam' if np.squeeze(pred_1[0])>0.5 else 'ham'))"
      ],
      "execution_count": 26,
      "outputs": [
        {
          "output_type": "stream",
          "text": [
            "sir waiting mail                                                                                                 \n",
            "Acutall Label: ham\n",
            "Predicted Label: ham\n"
          ],
          "name": "stdout"
        }
      ]
    },
    {
      "cell_type": "code",
      "metadata": {
        "colab": {
          "base_uri": "https://localhost:8080/",
          "height": 320
        },
        "id": "IDNPzRU3FvCg",
        "outputId": "4857922b-5fb4-4759-8c36-6906b9f2d88b"
      },
      "source": [
        "pred_labels = (model_1.predict(X_test) > 0.5).astype(\"int32\")\n",
        "plot_confusion_matrix(y_test, pred_labels)"
      ],
      "execution_count": 27,
      "outputs": [
        {
          "output_type": "display_data",
          "data": {
            "image/png": "[encoded data removed]",
            "text/plain": [
              "<Figure size 360x360 with 2 Axes>"
            ]
          },
          "metadata": {
            "tags": [],
            "needs_background": "light"
          }
        }
      ]
    },
    {
      "cell_type": "markdown",
      "metadata": {
        "id": "CdMcbh1ZgT8I"
      },
      "source": [
        "Let's take a look which text the model has classified wrongly."
      ]
    },
    {
      "cell_type": "code",
      "metadata": {
        "id": "wMbPMUHlgp4M"
      },
      "source": [
        "def check_misclassification(X, y, predictions, index_word):\n",
        "  \"\"\"\n",
        "    Print the text that have been misclassified\n",
        "    \n",
        "    Arguments:\n",
        "    X -- text collection\n",
        "    y -- acutal labels\n",
        "    predictions -- predicted labels\n",
        "    index_word -- dictionary that used to convert index to word\n",
        "  \"\"\"\n",
        "  pred = np.copy(predictions)\n",
        "  pred = np.reshape(pred, (pred.shape[0],))\n",
        "  index = np.where(np.not_equal(y, pred))[0]\n",
        "\n",
        "  for id in index:\n",
        "    seq = X[id]\n",
        "    text = decode_sentence(index_word, seq).strip()\n",
        "    print(\"{} | Actual: {} | Predicted: {}\".format(text, y[id], str(predictions[id]).lstrip('[').rstrip(']')))"
      ],
      "execution_count": 28,
      "outputs": []
    },
    {
      "cell_type": "code",
      "metadata": {
        "colab": {
          "base_uri": "https://localhost:8080/"
        },
        "id": "bSRdjbweg-Uy",
        "outputId": "8ea7c40a-85de-494e-c081-d69b5c68dd1e"
      },
      "source": [
        "check_misclassification(X_test, y_test, pred_labels, reverse_word_index)"
      ],
      "execution_count": 29,
      "outputs": [
        {
          "output_type": "stream",
          "text": [
            "believe true incredible txts reply g learn truly amazing things blow mind o2fwd 18p txt | Actual: 1 | Predicted: 0\n",
            "jade paul didnåõt txt remember barmed want 2 talk 2 txt | Actual: 0 | Predicted: 1\n",
            "sms ac sun 0819 posts hello seem cool | Actual: 1 | Predicted: 0\n",
            "simpsons movie released july 2007 name band died start film a green day b blue day c red day send b c | Actual: 1 | Predicted: 0\n",
            "message text missing sender name missing number missing sent d ate missing missing lot thats everything missing sent via fullonsms com | Actual: 0 | Predicted: 1\n",
            "xclusive clubsaisai 2morow 28 5 soiree speciale zouk nichols paris free roses 2 ladies info 07946746291 07880867867 | Actual: 1 | Predicted: 0\n",
            "welcome please reply age gender begin e g 24m | Actual: 1 | Predicted: 0\n",
            "filthy stories girls waiting | Actual: 1 | Predicted: 0\n",
            "dating two started sent text talk sport radio last week connection think coincidence | Actual: 1 | Predicted: 0\n",
            "latest news police station toilet stolen cops nothing go | Actual: 1 | Predicted: 0\n",
            "tbs persolvo chasing us since sept forå £ 38 definitely paying thanks information ignore kath manchester | Actual: 1 | Predicted: 0\n",
            "message brought gmw ltd connected | Actual: 1 | Predicted: 0\n",
            "come takes little time child afraid dark become teenager wants stay night | Actual: 1 | Predicted: 0\n"
          ],
          "name": "stdout"
        }
      ]
    },
    {
      "cell_type": "markdown",
      "metadata": {
        "id": "T300UUMMzjzl"
      },
      "source": [
        "# Discussion\n"
      ]
    },
    {
      "cell_type": "markdown",
      "metadata": {
        "id": "RUM-hAVXtTA8"
      },
      "source": [
        "There are two practices to build the vocabulary. In above experiment, we used all the text in the whole dataset to build the vocabulary. Another way is only using text in the train set. There is a discussion on [StackOverflow](https://stackoverflow.com/questions/54891464/is-it-better-to-keras-fit-to-text-on-the-entire-x-data-or-just-the-train-data) about this topic you could refer to. <br>\n",
        "Validation set and test set represent data the model has never seen, by intuition, only using training text to build the vocabulary could be more objective to evaluate the model's performance. \n",
        " let's see how the model goes if we build the vocabulary only with train text.\n"
      ]
    },
    {
      "cell_type": "code",
      "metadata": {
        "id": "YpffFnjqX8f2"
      },
      "source": [
        "vocab_size_2 = 10000\n",
        "\n",
        "(X_train_2, y_train_2, X_validation_2, y_validation_2, X_test_2, y_test_2, word_index_2) = \\\n",
        "  tokenize(train, validation, test, vocab_size_2, oov_tok, 'train', 'cleaned_text', 'label')"
      ],
      "execution_count": 30,
      "outputs": []
    },
    {
      "cell_type": "code",
      "metadata": {
        "colab": {
          "base_uri": "https://localhost:8080/"
        },
        "id": "8PsuxDBcvBfu",
        "outputId": "51ff923d-5fd3-4ebc-f66b-fd4fbebf451a"
      },
      "source": [
        "vocab_size_2 = len(word_index_2)\n",
        "print(\"The acutal vocabulary size: {}\".format(vocab_size_2))\n",
        "print(len(X_train_2), len(y_train_2))\n",
        "print(len(X_validation_2), len(y_validation_2))\n",
        "print(len(X_test_2), len(y_test_2))\n",
        "print(X_train_2[1:3])"
      ],
      "execution_count": 31,
      "outputs": [
        {
          "output_type": "stream",
          "text": [
            "The acutal vocabulary size: 7124\n",
            "3900 3900\n",
            "836 836\n",
            "836 836\n",
            "[[ 155 3370 3371 3372 2222 3373   53  527 3374 2223  282  118   99 1174\n",
            "  3375  390   31 1033 1034  913    0    0    0    0    0    0    0    0\n",
            "     0    0    0    0    0    0    0    0    0    0    0    0    0    0\n",
            "     0    0    0    0    0    0    0    0    0    0    0    0    0    0\n",
            "     0    0    0    0    0    0    0    0    0    0    0    0    0    0\n",
            "     0    0    0    0    0    0    0    0    0    0    0    0    0    0\n",
            "     0    0    0    0    0    0    0    0    0    0    0    0    0    0\n",
            "     0    0]\n",
            " [  12  115   12 2224    2 3376   97  212  171 3377   87    0    0    0\n",
            "     0    0    0    0    0    0    0    0    0    0    0    0    0    0\n",
            "     0    0    0    0    0    0    0    0    0    0    0    0    0    0\n",
            "     0    0    0    0    0    0    0    0    0    0    0    0    0    0\n",
            "     0    0    0    0    0    0    0    0    0    0    0    0    0    0\n",
            "     0    0    0    0    0    0    0    0    0    0    0    0    0    0\n",
            "     0    0    0    0    0    0    0    0    0    0    0    0    0    0\n",
            "     0    0]]\n"
          ],
          "name": "stdout"
        }
      ]
    },
    {
      "cell_type": "markdown",
      "metadata": {
        "id": "MJnzM_r5U3tg"
      },
      "source": [
        "The vocabulary size is 7124, compared with the vocabulary size we got from the whole dataset 8705, there is a 1581 difference. Let's see how the model goes with the new vocabulary."
      ]
    },
    {
      "cell_type": "code",
      "metadata": {
        "colab": {
          "base_uri": "https://localhost:8080/",
          "height": 1000
        },
        "id": "LgemvxmZAH2i",
        "outputId": "b1a77056-e72b-4d89-e181-e2562410ba96"
      },
      "source": [
        "model_3 = model_biLstm(vocab_size_2, embedding_dim, max_length)\n",
        "model_3.compile(loss='binary_crossentropy',optimizer='adam',metrics=['accuracy'])\n",
        "model_3.summary()\n",
        "\n",
        "tf.keras.backend.clear_session()\n",
        "\n",
        "history_3 = model_3.fit(X_train_2, y_train_2, epochs=num_epochs, validation_data=(X_validation_2, y_validation_2), verbose=2)\n",
        "print(\"Model 3 Training Complete\")\n",
        "\n",
        "plot_graphs(history_3, \"accuracy\")\n",
        "plot_graphs(history_3, \"loss\")"
      ],
      "execution_count": 32,
      "outputs": [
        {
          "output_type": "stream",
          "text": [
            "Model: \"sequential\"\n",
            "_________________________________________________________________\n",
            "Layer (type)                 Output Shape              Param #   \n",
            "=================================================================\n",
            "embedding (Embedding)        (None, 100, 100)          712500    \n",
            "_________________________________________________________________\n",
            "bidirectional (Bidirectional (None, 128)               84480     \n",
            "_________________________________________________________________\n",
            "dense (Dense)                (None, 64)                8256      \n",
            "_________________________________________________________________\n",
            "dense_1 (Dense)              (None, 1)                 65        \n",
            "=================================================================\n",
            "Total params: 805,301\n",
            "Trainable params: 805,301\n",
            "Non-trainable params: 0\n",
            "_________________________________________________________________\n",
            "Epoch 1/10\n",
            "122/122 - 7s - loss: 0.1806 - accuracy: 0.9410 - val_loss: 0.0526 - val_accuracy: 0.9833\n",
            "Epoch 2/10\n",
            "122/122 - 6s - loss: 0.0192 - accuracy: 0.9946 - val_loss: 0.0502 - val_accuracy: 0.9844\n",
            "Epoch 3/10\n",
            "122/122 - 6s - loss: 0.0054 - accuracy: 0.9982 - val_loss: 0.0555 - val_accuracy: 0.9880\n",
            "Epoch 4/10\n",
            "122/122 - 6s - loss: 0.0021 - accuracy: 0.9995 - val_loss: 0.0689 - val_accuracy: 0.9856\n",
            "Epoch 5/10\n",
            "122/122 - 6s - loss: 5.4632e-04 - accuracy: 1.0000 - val_loss: 0.0746 - val_accuracy: 0.9821\n",
            "Epoch 6/10\n",
            "122/122 - 6s - loss: 2.8689e-04 - accuracy: 1.0000 - val_loss: 0.0810 - val_accuracy: 0.9833\n",
            "Epoch 7/10\n",
            "122/122 - 6s - loss: 9.9370e-05 - accuracy: 1.0000 - val_loss: 0.0853 - val_accuracy: 0.9856\n",
            "Epoch 8/10\n",
            "122/122 - 6s - loss: 6.2961e-05 - accuracy: 1.0000 - val_loss: 0.0887 - val_accuracy: 0.9844\n",
            "Epoch 9/10\n",
            "122/122 - 6s - loss: 3.8666e-05 - accuracy: 1.0000 - val_loss: 0.0917 - val_accuracy: 0.9833\n",
            "Epoch 10/10\n",
            "122/122 - 6s - loss: 2.8693e-05 - accuracy: 1.0000 - val_loss: 0.0945 - val_accuracy: 0.9833\n",
            "Model 3 Training Complete\n"
          ],
          "name": "stdout"
        },
        {
          "output_type": "display_data",
          "data": {
            "image/png": "[encoded data removed]",
            "text/plain": [
              "<Figure size 432x288 with 1 Axes>"
            ]
          },
          "metadata": {
            "tags": [],
            "needs_background": "light"
          }
        },
        {
          "output_type": "display_data",
          "data": {
            "image/png": "[encoded data removed]",
            "text/plain": [
              "<Figure size 432x288 with 1 Axes>"
            ]
          },
          "metadata": {
            "tags": [],
            "needs_background": "light"
          }
        }
      ]
    },
    {
      "cell_type": "code",
      "metadata": {
        "colab": {
          "base_uri": "https://localhost:8080/"
        },
        "id": "1cmDCOQWxz44",
        "outputId": "12b947d4-a396-4c82-cbc9-1cfead700117"
      },
      "source": [
        "loss_2, acc_2 = model_3.evaluate(X_test_2, y_test_2)\n",
        "print(loss_2, acc_2)"
      ],
      "execution_count": 33,
      "outputs": [
        {
          "output_type": "stream",
          "text": [
            "27/27 [==============================] - 0s 16ms/step - loss: 0.0980 - accuracy: 0.9844\n",
            "0.0979703962802887 0.9844497442245483\n"
          ],
          "name": "stdout"
        }
      ]
    },
    {
      "cell_type": "code",
      "metadata": {
        "colab": {
          "base_uri": "https://localhost:8080/"
        },
        "id": "UoqskMUYvYua",
        "outputId": "38265e59-1c3a-47d4-e447-c46176bb2b26"
      },
      "source": [
        "pred_2 = model_3.predict(np.expand_dims(X_test_2[66], axis = 0))\n",
        "reverse_word_index_2 = dict([(value, key) for (key, value) in word_index_2.items()])\n",
        "text = decode_sentence(reverse_word_index_2, X_test_2[66])\n",
        "print(text)\n",
        "print(\"Acutall Label: {}\".format('spam' if y_test_2[66]==1 else 'ham'))\n",
        "print(\"Predicted Label: {}\".format('spam' if np.squeeze(pred_2[0])>0.5 else 'ham'))"
      ],
      "execution_count": 34,
      "outputs": [
        {
          "output_type": "stream",
          "text": [
            "sir waiting mail                                                                                                 \n",
            "Acutall Label: ham\n",
            "Predicted Label: ham\n"
          ],
          "name": "stdout"
        }
      ]
    },
    {
      "cell_type": "code",
      "metadata": {
        "colab": {
          "base_uri": "https://localhost:8080/",
          "height": 320
        },
        "id": "zcU9HjlBGaYP",
        "outputId": "e2a9dcf9-90d6-4b56-a1c4-d4149b90c056"
      },
      "source": [
        "pred_labels_2 = (model_3.predict(X_test_2) > 0.5).astype(\"int32\")\n",
        "plot_confusion_matrix(y_test_2, pred_labels_2)"
      ],
      "execution_count": 35,
      "outputs": [
        {
          "output_type": "display_data",
          "data": {
            "image/png": "[encoded data removed]",
            "text/plain": [
              "<Figure size 360x360 with 2 Axes>"
            ]
          },
          "metadata": {
            "tags": [],
            "needs_background": "light"
          }
        }
      ]
    },
    {
      "cell_type": "code",
      "metadata": {
        "colab": {
          "base_uri": "https://localhost:8080/"
        },
        "id": "XANuRjGSiGwb",
        "outputId": "64e64c24-5fe6-474b-c2ff-8c979b8aef0a"
      },
      "source": [
        "check_misclassification(X_test_2, y_test_2, pred_labels_2, reverse_word_index_2)"
      ],
      "execution_count": 36,
      "outputs": [
        {
          "output_type": "stream",
          "text": [
            "believe true <OOV> txts reply g learn truly amazing things blow mind <OOV> <OOV> txt | Actual: 1 | Predicted: 0\n",
            "<OOV> <OOV> didnåõt txt remember <OOV> want 2 talk 2 txt | Actual: 0 | Predicted: 1\n",
            "sms ac sun <OOV> <OOV> hello seem cool | Actual: 1 | Predicted: 0\n",
            "<OOV> movie released july 2007 name <OOV> died start film a green day b blue day c red day send b c | Actual: 1 | Predicted: 0\n",
            "welcome please reply age <OOV> begin e g <OOV> | Actual: 1 | Predicted: 0\n",
            "<OOV> <OOV> girls waiting | Actual: 1 | Predicted: 0\n",
            "dating two started sent text talk sport radio last week connection think <OOV> | Actual: 1 | Predicted: 0\n",
            "latest news police station <OOV> <OOV> <OOV> nothing go | Actual: 1 | Predicted: 0\n",
            "<OOV> <OOV> chasing us since sept <OOV> £ <OOV> definitely paying thanks information ignore <OOV> <OOV> | Actual: 1 | Predicted: 0\n",
            "message brought <OOV> ltd <OOV> | Actual: 1 | Predicted: 0\n",
            "<OOV> msg na <OOV> <OOV> <OOV> 7 name 1 <OOV> 2 <OOV> 3 <OOV> 4 <OOV> 5 <OOV> 6 <OOV> 7 <OOV> <OOV> 7 name <OOV> <OOV> <OOV> next saturday <OOV> <OOV> good news <OOV> <OOV> <OOV> 1 <OOV> <OOV> <OOV> <OOV> <OOV> <OOV> true <OOV> | Actual: 0 | Predicted: 1\n",
            "come takes little time child afraid dark become <OOV> wants stay night | Actual: 1 | Predicted: 0\n",
            "<OOV> love 1 like listening songs 2 get stopped see name beloved 3 get angry | Actual: 0 | Predicted: 1\n"
          ],
          "name": "stdout"
        }
      ]
    },
    {
      "cell_type": "markdown",
      "metadata": {
        "id": "7cIxMeAEyGCf"
      },
      "source": [
        "Regarding the different practices to build vocabulary with whole dataset or only with train set, the model performance in this case did not show a significant difference.<br>\n",
        "\n",
        "One of the differences caused by these two practices is wordembedding. Let's make a symbolic distinguish first: <br>\n",
        "\n",
        "*   all_vocabulary: vocabulary built with all text in the whole dataset\n",
        "*   all_embedding: embedding with all_vocabulary size\n",
        "*   train_vocabulary: vocabulary built only with train text\n",
        "*   train_embedding: embedding with train_vocabulary size\n",
        "\n",
        "\n",
        "Compared with train_embedding, all_embedding will hold 1581 more words, and all those 1581 words in train_embedding will be represented as unknown word `<OOV>`. As [Jay](http://jalammar.github.io/illustrated-word2vec/) suggests, before training wordembedding, each word vector in the embedding matrix will be instialized with random numbers. And train text will be resampled into (target, context) as training examples and the learning algorithm will use those newly generated examples to update each word vector in the embedding. In this case, since 1581 words are not in the train text, training examples will not be generated for those words by taking them as target. Thus, the vectors of those words in the all_embedding might not be well updated. Since we included all the words in the vocabulary, the unknown word representation `<OOV>` could face a similar situation.\n",
        "\n",
        "One reason that this case did not show model performance difference could be our dataset is relatively small and we include most of the words in our vocabularies, thus, the words that contribute to the classification are included in both vocabularies and their word vectors in wordembedding are effectively learned."
      ]
    },
    {
      "cell_type": "markdown",
      "metadata": {
        "id": "1VlRkEWRa80X"
      },
      "source": [
        "# Summary\n",
        "1. When start working on your datasets, it could be a good idea to look for recently published or shared NN architectures, hyper parameters to try on your dataset. In this case, it worked pretty well and could save a lot of time.\n",
        "2. Split data into train, validation, and test set is a good practice to build models, even though we did not use validtion set to tune our models in this case.\n",
        "3. This case does not show the evidence that building the vocabulary on the whole dataset could bring bias into the model. This could be due to we include most words into the vocabulary."
      ]
    },
    {
      "cell_type": "markdown",
      "metadata": {
        "id": "lARy0Q2n04dW"
      },
      "source": [
        "# References:\n",
        "1. https://www.tensorflow.org/tutorials/text/text_classification_rnn\n",
        "2. https://keras.io/examples/nlp/pretrained_word_embeddings/\n",
        "3. https://www.coursera.org/learn/machine-learning/lecture/QGKbr/model-selection-and-train-validation-test-sets\n",
        "4. https://www.coursera.org/learn/natural-language-processing-tensorflow/lecture/NFvFd/going-back-to-the-imdb-dataset\n",
        "5. http://jalammar.github.io/illustrated-word2vec/"
      ]
    }
  ]
}